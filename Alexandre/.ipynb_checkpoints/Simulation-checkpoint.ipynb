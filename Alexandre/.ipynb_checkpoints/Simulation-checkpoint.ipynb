{
 "cells": [
  {
   "cell_type": "markdown",
   "id": "6a8aaa23-8061-4d5e-acde-174fa68a655e",
   "metadata": {},
   "source": [
    "# Simulating a neuronal Network"
   ]
  },
  {
   "cell_type": "code",
   "execution_count": 2,
   "id": "fdeca48b-5059-46bc-91df-de92edf4a3a2",
   "metadata": {},
   "outputs": [],
   "source": [
    "import numpy as np\n",
    "from neuronal_network import *"
   ]
  },
  {
   "cell_type": "markdown",
   "id": "5eb9cf98-8ea2-4fca-a53a-68e158acc382",
   "metadata": {},
   "source": [
    "## Class 1: simple neuronal network model"
   ]
  },
  {
   "cell_type": "code",
   "execution_count": 3,
   "id": "c408f39f-254d-43f6-bc2f-df5c1ba7ee15",
   "metadata": {},
   "outputs": [
    {
     "name": "stdout",
     "output_type": "stream",
     "text": [
      "-0.6503678647884897\n",
      "0\n"
     ]
    }
   ],
   "source": [
    "# Create a LifNeuron object\n",
    "n1 = LifNeuron(100, 1, 0.75, 0.9)\n",
    "\n",
    "# Generate random inputs\n",
    "my_inputs = np.random.random(100)\n",
    "\n",
    "# Integrate the inputs in the neuron\n",
    "n1.integration(my_inputs)\n",
    "\n",
    "# Print the value of V (membrane potential) and out (output) of the LifNeuron\n",
    "print(n1.V)\n",
    "print(n1.out)"
   ]
  },
  {
   "cell_type": "code",
   "execution_count": 4,
   "id": "6eb29c04-ec83-43f8-a1ab-e5cffca77d1c",
   "metadata": {},
   "outputs": [
    {
     "name": "stdout",
     "output_type": "stream",
     "text": [
      "[0.27812316137633114, 0.21242594540981202, 0.7401498249135868, 0.31385244533885975, 0.7517060691433005, 0.7419343519205772, 0.42672426583479733, 0.2812630627495962, 0.39880030779477615, 0.5323281476331793, 0.11241768668488598, 0.6283434803588167, 0.6712096959520729, 0.6564343097705033, 0.45497153758834735, 0.3844784437872501, 0.4523644981605893, 0.6325541684999538, 0.6292396009894482, 0.35522817344168345]\n"
     ]
    }
   ],
   "source": [
    "# Create a Layer object with sigmoid neurons\n",
    "l1 = Layer(n_neurons=20, n_inputs=10, ntype='sigmoid')\n",
    "\n",
    "# Generate random inputs\n",
    "my_inputs = np.random.random(10)\n",
    "\n",
    "# Update the layer with the inputs\n",
    "l1.update(my_inputs)\n",
    "\n",
    "# Print the values of V (membrane potential) for each neuron in the layer\n",
    "print([neuron.V for neuron in l1.neurons])"
   ]
  },
  {
   "cell_type": "code",
   "execution_count": 5,
   "id": "03ef3ddb-3c82-4b73-b5be-602adef51338",
   "metadata": {},
   "outputs": [
    {
     "data": {
      "text/plain": [
       "(0.64,\n",
       " array([0, 0, 1, 1, 0, 0, 1, 1, 1, 0, 0, 0, 1, 0, 0, 1, 1, 1, 1, 1, 0, 0,\n",
       "        1, 0, 1, 1, 0, 0, 0, 0, 1, 1, 0, 1, 1, 0, 0, 0, 0, 1, 0, 1, 0, 0,\n",
       "        1, 1, 0, 0, 1, 1, 1, 0, 0, 1, 0, 1, 1, 1, 0, 0, 0, 0, 0, 0, 1, 1,\n",
       "        1, 1, 1, 0, 1, 1, 1, 1, 1, 1, 1, 0, 0, 0, 1, 0, 1, 1, 0, 0, 1, 0,\n",
       "        0, 0, 0, 1, 1, 0, 1, 1, 1, 0, 1, 0]))"
      ]
     },
     "execution_count": 5,
     "metadata": {},
     "output_type": "execute_result"
    }
   ],
   "source": [
    "# Create a Network object with sigmoid neurons\n",
    "net = Network(n_layers=100, n_neurons=100, n_inputs=100, n_outputs=10, ntype='lif', threshold=1, resetPot=0.5, memTimeConst=1)\n",
    "\n",
    "# Generate random inputs\n",
    "my_inputs = np.random.random(100)\n",
    "\n",
    "# Run the network with the inputs and an exit threshold of 0.5\n",
    "net.run(my_inputs, 0.5)"
   ]
  },
  {
   "cell_type": "markdown",
   "id": "b900af38-43fb-47bd-977e-3f3c105ce9e9",
   "metadata": {},
   "source": [
    "## Class 2-3: Visualize input"
   ]
  },
  {
   "cell_type": "code",
   "execution_count": 14,
   "id": "4a7aff18-588b-4c49-8550-3dd41775453f",
   "metadata": {},
   "outputs": [],
   "source": [
    "# Run for many times and visualize the output\n",
    "N = 100\n",
    "\n",
    "outputs = np.zeros(N)\n",
    "for i in range(N):\n",
    "    my_inputs = np.random.random(100)\n",
    "    outputs[i] = net.run(my_inputs, 0.5)[0]\n",
    "    net.clearActivity()"
   ]
  },
  {
   "cell_type": "code",
   "execution_count": 15,
   "id": "b7f5d0dd-62dc-4642-86e4-7dedfad26acf",
   "metadata": {},
   "outputs": [
    {
     "name": "stdout",
     "output_type": "stream",
     "text": [
      "[0.29 0.08 0.62 0.08  inf 0.74 0.7   inf 0.64 0.64  inf 0.56  inf 0.22\n",
      " 0.22 0.62 0.69 0.83 0.25 0.62 0.57 0.15 0.64 0.33 0.64 0.08 0.69 0.69\n",
      " 0.69  inf  inf 0.45 0.74 0.85 0.69 0.25 0.22 0.54 0.74 0.74 0.15 0.74\n",
      " 0.22 0.03 0.54 0.15 0.91 0.15 0.64 0.15 0.25 0.22 0.33 0.45 0.92 0.45\n",
      " 0.15 0.33 0.33  inf 0.22 0.45 0.33 0.15  inf 0.25 0.22 0.22 0.22  inf\n",
      " 0.29 0.74 0.45 0.15 0.22 0.7   inf  inf 0.22 0.25 0.31 0.33 0.22 0.57\n",
      " 0.33 0.3  0.29 0.74 0.15  inf  inf 0.29 0.22 0.64 0.43 0.51  inf 0.7\n",
      " 0.43  inf]\n"
     ]
    },
    {
     "data": {
      "image/png": "[encoded data removed]",
      "text/plain": [
       "<Figure size 432x288 with 1 Axes>"
      ]
     },
     "metadata": {
      "needs_background": "light"
     },
     "output_type": "display_data"
    }
   ],
   "source": [
    "import seaborn as sns\n",
    "import matplotlib.pyplot as plt\n",
    "\n",
    "print(outputs)\n",
    "\n",
    "outputs[outputs==np.inf] = 1.2\n",
    "sns.histplot(outputs, bins=120)\n",
    "sns.despine()\n",
    "plt.show()"
   ]
  },
  {
   "cell_type": "markdown",
   "id": "7d06346a-f48e-4a61-a0f6-291f7e9fd11b",
   "metadata": {},
   "source": [
    "## Class 4: define as time-aware SAS\n",
    "\n"
   ]
  },
  {
   "cell_type": "markdown",
   "id": "7ee29645-2618-44ef-8ea5-63dcc381b6a0",
   "metadata": {},
   "source": [
    "We now want to model a system of different networks. Only 1 network is active at a time and it's active for a certain amount of time. For now, we choose to have 3 networks. We can control their behaviour by changing their theshold $\\theta$, membrane time constant $\\theta$, and reset potential $\\tau_{\\text{res}}$. \n",
    "\n",
    "We define the system as a time-aware SAS $Q = \\{0,1,2\\} \\times [0, \\infty)$ with $q = (s, t)$.\n",
    "\n",
    "we choose the transition function as \n",
    "$$\\delta(s, t) = \n",
    "    \\begin{cases} \n",
    "        (s+1, \\sigma+0.1) &\\text{if } s\\in\\{0,1\\} \\\\ \n",
    "        (0, \\sigma+0.1)   &\\text{if } s=2 \n",
    "    end{cases}$$"
   ]
  }
 ],
 "metadata": {
  "kernelspec": {
   "display_name": "Python 3 (ipykernel)",
   "language": "python",
   "name": "python3"
  },
  "language_info": {
   "codemirror_mode": {
    "name": "ipython",
    "version": 3
   },
   "file_extension": ".py",
   "mimetype": "text/x-python",
   "name": "python",
   "nbconvert_exporter": "python",
   "pygments_lexer": "ipython3",
   "version": "3.9.7"
  }
 },
 "nbformat": 4,
 "nbformat_minor": 5
}
