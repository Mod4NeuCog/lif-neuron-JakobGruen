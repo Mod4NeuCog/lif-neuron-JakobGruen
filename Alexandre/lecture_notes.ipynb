{
 "cells": [
  {
   "cell_type": "markdown",
   "id": "3aacce47-3dd4-4813-b29d-7ae492be86b8",
   "metadata": {},
   "source": [
    "# Computational Modeling"
   ]
  },
  {
   "cell_type": "markdown",
   "id": "7055272e-12fd-4764-88c9-93d81d9ebfd6",
   "metadata": {},
   "source": [
    "## Day 1"
   ]
  },
  {
   "cell_type": "markdown",
   "id": "1db220cb-5e96-41c0-8710-18a4edac289a",
   "metadata": {},
   "source": [
    "**2 paths**\n",
    "\n",
    "- **from Natural Intelligence (NI)**\n",
    "    - goal: understanding the brain-decision loop\n",
    "    - from neuroscience to model\n",
    "    - difficult / many details to model with limited real-life data\n",
    "- **from AI**\n",
    "    - deep learning is working well, but we don't know why\n",
    "    - we can change some parameters or assumprions to better understand how it is working\n",
    "    - maybe this will lead to a better understanding of what is going on in the brain\n",
    "    \n",
    "- AI from Psychochology: Reinforcement Learning (RI)\n",
    "    - which action leads to the most rewards?\n",
    "    - maximizing reward in every step\n",
    "    - time is not taken into account\n",
    "- NI-AI: Hirachical modeling\n",
    "    - studying the brain wrt to behavior\n",
    "    - we can correlate behavior with brain activity\n",
    "    - we can also use AI to model the decision making\n",
    "- Activity-based modeling and simulation (M&S)\n",
    "    - *time* to model reasoning process\n",
    "    - deconstruct a complicated behavior or decision into many interconnected submodels (components)\n",
    "- activity-based credit assignment (ACA) = RL + MS\n",
    "    - assign credit (reward or blame) to the  different components\n",
    "    - "
   ]
  },
  {
   "cell_type": "markdown",
   "id": "96020b12-c959-4ddb-97b1-80c228aa0f21",
   "metadata": {},
   "source": [
    "## Day 2 \n",
    "\n",
    "..."
   ]
  },
  {
   "cell_type": "markdown",
   "id": "0f5a8a89-114b-4157-84d0-969fd79a20db",
   "metadata": {},
   "source": [
    "## Day 3\n",
    "\n",
    "- scientific experiments (e.g.in Neuronscience) need to be very well organized and reproducible\n",
    "- we need to do the same on our computers for modelling!\n",
    "- we need to provide the **model, simulator, and experimental frame**\n",
    "\n",
    "**Repreatability:** same input and execution environment -> same results\n",
    "\n",
    "**Reproducabilty:** Reproducing comp. exp. can be acchieved with different methods and hardware, but they will produce the same conclusion\n",
    "\n",
    "- Tools\n",
    "    - DrWatson in Julia\n",
    "    - Sumatra for neuroscience\n",
    "    - ReproZip (VM snapshot)\n",
    "    - ..."
   ]
  },
  {
   "cell_type": "markdown",
   "id": "0e972e52-e473-42b7-8db7-3a6bad84e9ec",
   "metadata": {},
   "source": [
    "- for one experimental frame, we can have different models (networks)\n",
    "- "
   ]
  },
  {
   "cell_type": "markdown",
   "id": "e37a258a-ccc2-4a69-ac49-45728a1c5f9f",
   "metadata": {},
   "source": [
    "# Day 5: Deterministic systems"
   ]
  },
  {
   "cell_type": "markdown",
   "id": "f668c423-60ed-4a63-afec-8cbebe380e01",
   "metadata": {},
   "source": [
    "**State-based autonomous system (SAS)**\n",
    "\n",
    "*Def*: A system $(S, \\delta)$ is a set of states $S$ and a transition function $\\delta:S\\to S$\n",
    "\n",
    "*Example:* In a simple counter moddel the set of states could be $\\mathbb{N}$ and $\\delta(s) = s + 1$. \n",
    "\n",
    "- often there are many possible systems, states, inputs, outputs, and possible subsystems\n",
    "- Natural system: few observations $\\Rightarrow$ infinity of possible structures\n",
    "- **Solution**\n",
    "    - abstraction by morphisms (simplification of structures) = lumping\n",
    "    - build small (abstraction) and large model (base model) and compare wrt to their equivalent states or IO behaviour\n",
    "\n",
    "**Lumping**\n",
    "\n",
    "- consider two counter model: a large $S=\\{0,1,2,3\\}$ and small $S'=\\{0,1\\}$ with $\\delta=\\delta'=s+1$.\n",
    "- consider the map $h:S\\to S'$ that is grouping the 4 states into 2 states\n",
    "    - we need to make sure that the dynamics are preserved\n",
    "    - i.e. $h$ should be a homomorphism ($h(\\delta(x) = \\delta(h(x) \\forall x\\in S$\n",
    "        - it need to be equivalent at the transitional level and IO level\n",
    "    - **not** the other way around\n",
    "- the grouping is arbitrary as long as we follow the homomorphism rules\n",
    "    - since $\\delta$ is a counter, it is a little more fixed\n",
    "- ex: $\\{0,2\\} \\to 0$ and $\\{1,3\\} \\to 1$\n",
    "- we can compare 2 different models through parameters morphism\n",
    "- espectially useful for dynamcical systems\n",
    "\n",
    "**Time-aware SAS** \n",
    "\n",
    "- $Q = \\{(s,e) | s\\in S, e\\in \\mathbb{N}_0\\}$ for discrete time \n",
    "- $e$ is the clock counting elapsed time and just keeps counting independent of the states\n",
    "- if we have a continous time, we just add the time elapsed since the last transition to the previous time"
   ]
  },
  {
   "cell_type": "markdown",
   "id": "e681574a-c02f-4b92-8403-105bbea1ec1e",
   "metadata": {},
   "source": [
    "## Day 5: Stochastic systems\n",
    "\n",
    "- stochastics can appear at different levels\n",
    "    - IO, state traisitions, parameters, number of components\n",
    "- ex: stochastic state set $S = C\\times [0,1]$ with an ideal random number generator $\\Gamma: [0,1]\\to [0,1]$. \n",
    "- **pseudo random number generators (PRNG)** apply an deterministic algorithm to generate numbers that exhibit properties of a probabilistic distribution\n",
    "- Problems with PRNG:\n",
    "    - if we parralellize our computation, we should create an individual stream for each thread\n",
    "    - otherwise, the order in which the threads are accessing the numbers of the stream can be different\n",
    "        - this would cause different results, even with the same seed\n",
    "    - we can create a new stream for each seed -> individual seed for all threads\n",
    "    - some generators can handle multiple streams for each thread with only one seed\n",
    "- "
   ]
  },
  {
   "cell_type": "markdown",
   "id": "6b40231b-0dd5-414a-8e90-886ecdbb6d46",
   "metadata": {},
   "source": [
    "## Day 6 or so: I/O System\n",
    "\n",
    "$$SYS = (\\delta, \\lambda), $$\n",
    "where \n",
    "- $\\delta:\\Omega\\times Q\\to Q$ is the transition function with $Q$ being the set of states and $\\Omega$ the set of piecewise continuous iput segments $\\omega:[t_1, t_2]\\to X$\n",
    "- $\\lambda:$\n",
    "\n",
    "- Two models are transition equivalent if: $\\q\\sim q' \\Rightarrow \\delta(q,\\omega"
   ]
  },
  {
   "cell_type": "code",
   "execution_count": null,
   "id": "334735fd-fa86-408c-8ef3-f133a23bf3e1",
   "metadata": {},
   "outputs": [],
   "source": []
  }
 ],
 "metadata": {
  "kernelspec": {
   "display_name": "Python 3 (ipykernel)",
   "language": "python",
   "name": "python3"
  },
  "language_info": {
   "codemirror_mode": {
    "name": "ipython",
    "version": 3
   },
   "file_extension": ".py",
   "mimetype": "text/x-python",
   "name": "python",
   "nbconvert_exporter": "python",
   "pygments_lexer": "ipython3",
   "version": "3.9.7"
  }
 },
 "nbformat": 4,
 "nbformat_minor": 5
}
