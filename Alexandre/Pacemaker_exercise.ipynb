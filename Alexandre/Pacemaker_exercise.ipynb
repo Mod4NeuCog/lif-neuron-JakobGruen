{
 "cells": [
  {
   "cell_type": "markdown",
   "id": "b6ebf039-a793-4260-adf9-90cac1474941",
   "metadata": {},
   "source": [
    "## Exercise: large model with temporal states"
   ]
  },
  {
   "cell_type": "markdown",
   "id": "efb59c30-af52-46ad-9665-08ec5891de95",
   "metadata": {},
   "source": [
    "**Pacemaker model**\n",
    "\n",
    "Let $Q = \\{0,1,2, \\dots, 10\\}\\times\\mathbb{R}^{+,0}_\\infty$ with $q=(s,\\sigma)$. \n",
    "- $s$ is the membrane potential with $\\theta = 10$ as the threshold\n",
    "- $\\sigma$ is the continuous time\n",
    "\n",
    "We define the pacemaker model $(Q, \\delta)$ with the initial state $Q=(0,0)$\n",
    "- we choose $\\delta(s, \\sigma) = \\begin{cases} (s+1, \\sigma+0.1) &\\text{if } s<10 \\\\ (0, \\sigma+0.1) &\\text{if } s=10 \\end{cases}$"
   ]
  },
  {
   "cell_type": "markdown",
   "id": "7d2492b9-0e4e-45bd-9612-0a7d970641d1",
   "metadata": {},
   "source": [
    "Now consider the simper 'chronometer' model $Q'= \\{\\text{increasing, firing}\\}\\times\\mathbb{R}^{+,0}_\\infty$\n",
    "- we choose $\\delta(s, \\sigma) = \\begin{cases} (\\text{increasing}, \\sigma+0.9) &\\text{if } s=\\text{firing} \\\\ (\\text{firing}, \\sigma+0.1) &\\text{if } s=\\text{increasing} \\end{cases}$"
   ]
  },
  {
   "cell_type": "markdown",
   "id": "3201b558-82a5-449a-90e3-44e22c93dab2",
   "metadata": {},
   "source": []
  }
 ],
 "metadata": {
  "kernelspec": {
   "display_name": "Python 3 (ipykernel)",
   "language": "python",
   "name": "python3"
  },
  "language_info": {
   "codemirror_mode": {
    "name": "ipython",
    "version": 3
   },
   "file_extension": ".py",
   "mimetype": "text/x-python",
   "name": "python",
   "nbconvert_exporter": "python",
   "pygments_lexer": "ipython3",
   "version": "3.9.7"
  }
 },
 "nbformat": 4,
 "nbformat_minor": 5
}
