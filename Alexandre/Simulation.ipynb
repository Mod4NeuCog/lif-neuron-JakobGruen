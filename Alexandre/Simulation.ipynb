{
 "cells": [
  {
   "cell_type": "markdown",
   "id": "6a8aaa23-8061-4d5e-acde-174fa68a655e",
   "metadata": {},
   "source": [
    "# Simulating a neuronal Network"
   ]
  },
  {
   "cell_type": "code",
   "execution_count": 28,
   "id": "fdeca48b-5059-46bc-91df-de92edf4a3a2",
   "metadata": {},
   "outputs": [],
   "source": [
    "import numpy as np\n",
    "from neuronal_network import *"
   ]
  },
  {
   "cell_type": "code",
   "execution_count": 29,
   "id": "c408f39f-254d-43f6-bc2f-df5c1ba7ee15",
   "metadata": {},
   "outputs": [
    {
     "name": "stdout",
     "output_type": "stream",
     "text": [
      "-6.718479259078532\n",
      "0\n"
     ]
    }
   ],
   "source": [
    "# Create a LifNeuron object\n",
    "n1 = LifNeuron(100, 1, 0.75, 0.9)\n",
    "\n",
    "# Generate random inputs\n",
    "my_inputs = np.random.random(100)\n",
    "\n",
    "# Integrate the inputs in the neuron\n",
    "n1.integration(my_inputs)\n",
    "\n",
    "# Print the value of V (membrane potential) and out (output) of the LifNeuron\n",
    "print(n1.V)\n",
    "print(n1.out)"
   ]
  },
  {
   "cell_type": "code",
   "execution_count": 30,
   "id": "6eb29c04-ec83-43f8-a1ab-e5cffca77d1c",
   "metadata": {},
   "outputs": [
    {
     "name": "stdout",
     "output_type": "stream",
     "text": [
      "[0.24796929770801673, 0.6927576764091955, 0.1890866407173689, 0.4748927188685071, 0.5960578215224133, 0.18090021308284135, 0.6394204136412363, 0.6687006849414172, 0.5732025897709617, 0.11840741356540498, 0.5229192076320673, 0.047313782621704624, 0.7388995456563467, 0.5555328305172956, 0.35456406741372126, 0.18388479259642818, 0.32440753259742305, 0.27046992455605784, 0.4790496367493253, 0.6364568046829551]\n"
     ]
    }
   ],
   "source": [
    "# Create a Layer object with sigmoid neurons\n",
    "l1 = Layer(n_neurons=20, n_inputs=10, ntype='sigmoid')\n",
    "\n",
    "# Generate random inputs\n",
    "my_inputs = np.random.random(10)\n",
    "\n",
    "# Update the layer with the inputs\n",
    "l1.update(my_inputs)\n",
    "\n",
    "# Print the values of V (membrane potential) for each neuron in the layer\n",
    "print([neuron.V for neuron in l1.neurons])"
   ]
  },
  {
   "cell_type": "code",
   "execution_count": 31,
   "id": "03ef3ddb-3c82-4b73-b5be-602adef51338",
   "metadata": {},
   "outputs": [
    {
     "data": {
      "text/plain": [
       "(0,\n",
       " [0.6505280639508578,\n",
       "  0.6939066556916739,\n",
       "  0.43768660237732654,\n",
       "  0.9350596152957545,\n",
       "  0.3543779924176407,\n",
       "  0.9936777265862831,\n",
       "  0.952320679920198,\n",
       "  0.01111478700071983,\n",
       "  0.2510726368829038,\n",
       "  0.11105433977340624])"
      ]
     },
     "execution_count": 31,
     "metadata": {},
     "output_type": "execute_result"
    }
   ],
   "source": [
    "# Create a Network object with sigmoid neurons\n",
    "net = Network(n_layers=100, n_neurons=10, n_inputs=100, n_outputs=10, ntype='sigmoid')\n",
    "\n",
    "# Generate random inputs\n",
    "my_inputs = np.random.random(100)\n",
    "\n",
    "# Run the network with the inputs and an exit threshold of 0.5\n",
    "net.run(my_inputs, 0.5)"
   ]
  },
  {
   "cell_type": "code",
   "execution_count": null,
   "id": "6529857e-305f-4abf-ab5e-8267e645fa46",
   "metadata": {},
   "outputs": [],
   "source": []
  }
 ],
 "metadata": {
  "kernelspec": {
   "display_name": "Python 3 (ipykernel)",
   "language": "python",
   "name": "python3"
  },
  "language_info": {
   "codemirror_mode": {
    "name": "ipython",
    "version": 3
   },
   "file_extension": ".py",
   "mimetype": "text/x-python",
   "name": "python",
   "nbconvert_exporter": "python",
   "pygments_lexer": "ipython3",
   "version": "3.9.7"
  }
 },
 "nbformat": 4,
 "nbformat_minor": 5
}
