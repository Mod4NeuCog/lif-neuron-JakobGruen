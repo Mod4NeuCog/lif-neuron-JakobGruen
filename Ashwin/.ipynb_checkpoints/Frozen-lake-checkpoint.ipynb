{
  "cells": [
    {
      "cell_type": "code",
      "execution_count": 20,
      "metadata": {
        "colab": {
          "base_uri": "https://localhost:8080/"
        },
        "id": "Z3l_EA7kbxFE",
        "outputId": "ba413b9d-8a91-494f-f2e9-389e9c448f2e"
      },
      "outputs": [
        {
          "data": {
            "text/plain": [
              "0"
            ]
          },
          "execution_count": 20,
          "metadata": {},
          "output_type": "execute_result"
        }
      ],
      "source": [
        "import gym\n",
        "import gym.envs.toy_text.frozen_lake as fl\n",
        "env = gym.make('FrozenLake-v1', desc=None, map_name=\"4x4\", is_slippery=False)\n",
        "env.reset(seed=42)\n"
      ]
    },
    {
      "cell_type": "code",
      "execution_count": null,
      "metadata": {
        "colab": {
          "base_uri": "https://localhost:8080/"
        },
        "id": "te_BgRB1dtUZ",
        "outputId": "eda455cb-b4dc-4513-e3e3-649a44503fb6"
      },
      "outputs": [
        {
          "name": "stdout",
          "output_type": "stream",
          "text": [
            "Discrete(16)\n",
            "Discrete(4)\n"
          ]
        }
      ],
      "source": [
        "## 4* 4maze\n",
        "## agent’s current position as current_row * nrows + current_col (where both the row and col start at 0). \n",
        "## For example, the goal position in the 4x4 map can be calculated as follows: 3 * 4 + 3 = 15. \n",
        "\n",
        "print(env.observation_space)\n",
        "print(env.action_space)"
      ]
    },
    {
      "cell_type": "code",
      "execution_count": 24,
      "metadata": {
        "id": "WOTimq8ceNnF"
      },
      "outputs": [],
      "source": [
        "actions = {fl.LEFT: '\\u2190', fl.DOWN: '\\u2193', fl.RIGHT: '\\u2192', fl.UP: '\\u2191'}"
      ]
    },
    {
      "cell_type": "code",
      "execution_count": 22,
      "metadata": {
        "colab": {
          "base_uri": "https://localhost:8080/"
        },
        "id": "zpSNNYVveQ4k",
        "outputId": "e7544373-3c22-4962-d14f-9307150ca2c5"
      },
      "outputs": [
        {
          "name": "stdout",
          "output_type": "stream",
          "text": [
            "{0: '←', 1: '↓', 2: '→', 3: '↑'}\n"
          ]
        }
      ],
      "source": [
        "print(actions)"
      ]
    },
    {
      "cell_type": "code",
      "execution_count": 28,
      "metadata": {
        "id": "CV7G4gvsf1hL"
      },
      "outputs": [],
      "source": [
        "## Select action RIGHT\n",
        "\n",
        "next_state, reward, terminated, truncated = env.step(fl.RIGHT)"
      ]
    },
    {
      "cell_type": "code",
      "execution_count": 30,
      "metadata": {
        "colab": {
          "base_uri": "https://localhost:8080/"
        },
        "id": "OqblYghxgRgV",
        "outputId": "4a5a4d2c-9e55-4251-f118-9aa01cc86e5d"
      },
      "outputs": [
        {
          "name": "stdout",
          "output_type": "stream",
          "text": [
            "3\n"
          ]
        }
      ],
      "source": [
        "print(observation)"
      ]
    }
  ],
  "metadata": {
    "colab": {
      "provenance": []
    },
    "kernelspec": {
      "display_name": "Python 3",
      "name": "python3"
    },
    "language_info": {
      "name": "python"
    }
  },
  "nbformat": 4,
  "nbformat_minor": 0
}
